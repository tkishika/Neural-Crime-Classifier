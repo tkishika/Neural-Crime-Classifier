{
 "cells": [
  {
   "cell_type": "raw",
   "id": "73d8c0ea-ec68-4979-94a9-85cbc4d87b96",
   "metadata": {},
   "source": [
    "Dataset Source:\n",
    "Crime Data: https://catalog.data.gov/dataset/crime-data-from-2020-to-present"
   ]
  },
  {
   "cell_type": "code",
   "execution_count": 4,
   "id": "a255ed24-4faa-40fc-a1fa-282a6866a04b",
   "metadata": {},
   "outputs": [],
   "source": [
    "import pandas as pd\n",
    "import numpy as np\n",
    "import tensorflow as tf\n",
    "from tensorflow import keras\n",
    "from sklearn.model_selection import train_test_split\n",
    "from sklearn.preprocessing import LabelEncoder, StandardScaler\n",
    "import matplotlib.pyplot as plt\n"
   ]
  },
  {
   "cell_type": "code",
   "execution_count": 5,
   "id": "1ede89cf-9c04-4c10-a175-3d8bf37d16e6",
   "metadata": {},
   "outputs": [],
   "source": [
    "# Step 2: Load Dataset\n",
    "crime = pd.read_csv('Crime_Data_from_2020_to_Present.csv')\n",
    "\n",
    "# Step 3: Preprocessing\n",
    "crime = crime[['TIME OCC', 'AREA', 'Vict Age', 'Vict Sex', 'Vict Descent', 'LAT', 'LON', 'Crm Cd Desc']]\n",
    "\n",
    "# Drop rows with missing values\n",
    "crime = crime.dropna()"
   ]
  },
  {
   "cell_type": "code",
   "execution_count": 6,
   "id": "ae38e0cd-0906-4649-ada9-9dfc2a6c169e",
   "metadata": {},
   "outputs": [],
   "source": [
    "# Encode categorical columns\n",
    "label_encoder_sex = LabelEncoder()\n",
    "crime['Vict Sex Encoded'] = label_encoder_sex.fit_transform(crime['Vict Sex'])\n",
    "\n",
    "label_encoder_descent = LabelEncoder()\n",
    "crime['Vict Descent Encoded'] = label_encoder_descent.fit_transform(crime['Vict Descent'])\n",
    "\n",
    "label_encoder_crime = LabelEncoder()\n",
    "crime['Crime Encoded'] = label_encoder_crime.fit_transform(crime['Crm Cd Desc'])\n",
    "\n",
    "# Create features (X) and labels (y)\n",
    "X = crime[['TIME OCC', 'AREA', 'Vict Age', 'Vict Sex Encoded', 'Vict Descent Encoded', 'LAT', 'LON']]\n",
    "y = crime['Crime Encoded']\n",
    "\n",
    "# Scale numeric features\n",
    "scaler = StandardScaler()\n",
    "X_scaled = scaler.fit_transform(X)\n",
    "\n",
    "# Train/Test split\n",
    "X_train, X_test, y_train, y_test = train_test_split(X_scaled, y, test_size=0.2, random_state=42)\n",
    "\n",
    "# Step 4: Build Model\n",
    "model = keras.Sequential([\n",
    "    keras.layers.Input(shape=(X_train.shape[1],)),\n",
    "    keras.layers.Dense(128, activation='relu'),\n",
    "    keras.layers.Dense(64, activation='relu'),\n",
    "    keras.layers.Dense(len(label_encoder_crime.classes_), activation='softmax')\n",
    "])\n",
    "\n",
    "model.compile(optimizer='adam', loss='sparse_categorical_crossentropy', metrics=['accuracy'])\n",
    "\n"
   ]
  },
  {
   "cell_type": "code",
   "execution_count": null,
   "id": "e35c6a71-b80d-4824-8c13-6107393529a4",
   "metadata": {},
   "outputs": [
    {
     "name": "stdout",
     "output_type": "stream",
     "text": [
      "Epoch 1/10\n",
      "\u001b[1m21510/21510\u001b[0m \u001b[32m━━━━━━━━━━━━━━━━━━━━\u001b[0m\u001b[37m\u001b[0m \u001b[1m54s\u001b[0m 2ms/step - accuracy: 0.1586 - loss: 3.1365 - val_accuracy: 0.1774 - val_loss: 3.0303\n",
      "Epoch 2/10\n",
      "\u001b[1m11095/21510\u001b[0m \u001b[32m━━━━━━━━━━\u001b[0m\u001b[37m━━━━━━━━━━\u001b[0m \u001b[1m16s\u001b[0m 2ms/step - accuracy: 0.1783 - loss: 3.0201"
     ]
    }
   ],
   "source": [
    "# Step 5: Train Model\n",
    "history = model.fit(X_train, y_train, epochs=10, validation_data=(X_test, y_test))\n",
    "\n",
    "# Step 6: Plot Training History\n",
    "plt.plot(history.history['accuracy'], label='Training Accuracy')\n",
    "plt.plot(history.history['val_accuracy'], label='Validation Accuracy')\n",
    "plt.title('Crime Classification Model Accuracy')\n",
    "plt.xlabel('Epoch')\n",
    "plt.ylabel('Accuracy')\n",
    "plt.legend()\n",
    "plt.show()\n",
    "\n",
    "# Step 7: Analysis\n",
    "print(\"\\nCrime Dataset - Final Validation Accuracy:\", history.history['val_accuracy'][-1])"
   ]
  },
  {
   "cell_type": "code",
   "execution_count": null,
   "id": "a1fb4dc2-035e-400f-957a-9a0e355588c5",
   "metadata": {},
   "outputs": [],
   "source": []
  }
 ],
 "metadata": {
  "kernelspec": {
   "display_name": "Python 3 (ipykernel)",
   "language": "python",
   "name": "python3"
  },
  "language_info": {
   "codemirror_mode": {
    "name": "ipython",
    "version": 3
   },
   "file_extension": ".py",
   "mimetype": "text/x-python",
   "name": "python",
   "nbconvert_exporter": "python",
   "pygments_lexer": "ipython3",
   "version": "3.11.11"
  }
 },
 "nbformat": 4,
 "nbformat_minor": 5
}
